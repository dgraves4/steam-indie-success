{
 "cells": [
  {
   "cell_type": "markdown",
   "metadata": {},
   "source": [
    "# Predicting Indie Game Success on Steam\n",
    "\n",
    "## Project Overview\n",
    "This project aims to predict the success of indie games on Steam using machine learning models. The goal is to understand which features of a game contribute most to its success in terms of user recommendations and to optimize model performance.\n",
    "\n",
    "## Modeling Approaches\n",
    "Three main models will be employed: Random Forest, Logistic Regression, and Support Vector Machine (SVM). We will train these models with various feature sets to explore their effectiveness:\n",
    "1. Using a single feature (`Recommendations`) to establish a baseline.\n",
    "2. Adding features incrementally to demonstrate the impact on model performance.\n",
    "3. Addressing class imbalance with SMOTE and optimizing the models via hyperparameter tuning.\n",
    "\n",
    "## Objectives\n",
    "1. Establish a baseline performance using a single-feature model.\n",
    "2. Experiment with stepwise addition of features to improve accuracy.\n",
    "3. Balance classes and tune models for improved results.\n",
    "4. Evaluate models using accuracy, precision, recall, and F1-score metrics.\n",
    "\n",
    "\n"
   ]
  },
  {
   "cell_type": "code",
   "execution_count": null,
   "metadata": {},
   "outputs": [],
   "source": [
    "# Cell 1: Import libraries\n",
    "\n",
    "import pandas as pd\n",
    "import numpy as np\n",
    "import matplotlib.pyplot as plt\n",
    "import seaborn as sns\n",
    "from sklearn.model_selection import train_test_split, GridSearchCV\n",
    "from sklearn.ensemble import RandomForestClassifier\n",
    "from sklearn.linear_model import LogisticRegression\n",
    "from sklearn.svm import SVC\n",
    "from sklearn.metrics import classification_report, confusion_matrix, accuracy_score\n",
    "\n",
    "\n"
   ]
  },
  {
   "cell_type": "code",
   "execution_count": null,
   "metadata": {},
   "outputs": [
    {
     "name": "stdout",
     "output_type": "stream",
     "text": [
      "0   2023-10-27\n",
      "1   2015-02-27\n",
      "2   2024-01-06\n",
      "3   2021-08-25\n",
      "4   2015-08-14\n",
      "Name: Release Date, dtype: datetime64[ns]\n",
      "<class 'pandas.core.frame.DataFrame'>\n",
      "RangeIndex: 287 entries, 0 to 286\n",
      "Data columns (total 32 columns):\n",
      " #   Column                            Non-Null Count  Dtype         \n",
      "---  ------                            --------------  -----         \n",
      " 0   AppID                             287 non-null    int64         \n",
      " 1   Game Name                         287 non-null    object        \n",
      " 2   Release Date                      287 non-null    datetime64[ns]\n",
      " 3   Price ($)                         287 non-null    float64       \n",
      " 4   Action                            287 non-null    bool          \n",
      " 5   Adventure                         287 non-null    bool          \n",
      " 6   Casual                            287 non-null    bool          \n",
      " 7   Early Access                      287 non-null    bool          \n",
      " 8   Free To Play                      287 non-null    bool          \n",
      " 9   Gore                              287 non-null    bool          \n",
      " 10  Indie                             287 non-null    bool          \n",
      " 11  Massively Multiplayer             287 non-null    bool          \n",
      " 12  Nudity                            287 non-null    bool          \n",
      " 13  RPG                               287 non-null    bool          \n",
      " 14  Racing                            287 non-null    bool          \n",
      " 15  Sexual Content                    287 non-null    bool          \n",
      " 16  Simulation                        287 non-null    bool          \n",
      " 17  Sports                            287 non-null    bool          \n",
      " 18  Strategy                          287 non-null    bool          \n",
      " 19  Violent                           287 non-null    bool          \n",
      " 20  Developer_Alister Software        287 non-null    bool          \n",
      " 21  Developer_Choice of Games         287 non-null    bool          \n",
      " 22  Developer_Daedalic Entertainment  287 non-null    bool          \n",
      " 23  Developer_Easy game               287 non-null    bool          \n",
      " 24  Developer_Other                   287 non-null    bool          \n",
      " 25  Developer_RewindApp               287 non-null    bool          \n",
      " 26  Developer_Ronimo Games            287 non-null    bool          \n",
      " 27  Developer_U-ROOM                  287 non-null    bool          \n",
      " 28  Years Since Release               287 non-null    float64       \n",
      " 29  Original_Recommendations          287 non-null    int64         \n",
      " 30  Log_Recommendations               287 non-null    float64       \n",
      " 31  Standardized_Recommendations      287 non-null    float64       \n",
      "dtypes: bool(24), datetime64[ns](1), float64(4), int64(2), object(1)\n",
      "memory usage: 24.8+ KB\n",
      "None\n"
     ]
    }
   ],
   "source": [
    "# Cell 2: Load the cleaned dataset and convert 'Release Date' to datetime format\n",
    "dataset_path = r\"C:\\Users\\derek\\OneDrive\\Documents\\Capstone\\steam-indie-success\\data\\steam_indie_games_cleaned_v3.csv\"\n",
    "data = pd.read_csv(dataset_path)\n",
    "\n",
    "# Convert 'Release Date' to datetime format\n",
    "data['Release Date'] = pd.to_datetime(data['Release Date'], errors='coerce')\n",
    "\n",
    "# Verify the conversion\n",
    "print(data['Release Date'].head())\n",
    "print(data.info())\n",
    "\n",
    "\n",
    "\n"
   ]
  },
  {
   "cell_type": "code",
   "execution_count": 11,
   "metadata": {},
   "outputs": [
    {
     "name": "stdout",
     "output_type": "stream",
     "text": [
      "Full Dataset Target Distribution:\n",
      "Original_Recommendations\n",
      "0    171\n",
      "1    116\n",
      "Name: count, dtype: int64\n"
     ]
    },
    {
     "data": {
      "image/png": "[encoded data removed]",
      "text/plain": [
       "<Figure size 640x480 with 1 Axes>"
      ]
     },
     "metadata": {},
     "output_type": "display_data"
    },
    {
     "name": "stdout",
     "output_type": "stream",
     "text": [
      "\n",
      "Training Target Distribution:\n",
      "Original_Recommendations\n",
      "0    136\n",
      "1     93\n",
      "Name: count, dtype: int64\n",
      "\n",
      "Testing Target Distribution:\n",
      "Original_Recommendations\n",
      "0    35\n",
      "1    23\n",
      "Name: count, dtype: int64\n",
      "\n",
      "Training Features Shape: (229, 1)\n",
      "Testing Features Shape: (58, 1)\n",
      "Training Target Shape: (229,)\n",
      "Testing Target Shape: (58,)\n"
     ]
    }
   ],
   "source": [
    "# Cell 3: Define Binary Target and initial Feature\n",
    "\n",
    "# Define the target variable: classify as successful if Original_Recommendations > 500\n",
    "target = (data['Original_Recommendations'] > 500).astype(int)\n",
    "\n",
    "# Visualize the distribution\n",
    "print(\"Full Dataset Target Distribution:\")\n",
    "print(target.value_counts())\n",
    "sns.countplot(x=target)\n",
    "plt.title(\"Target Variable Distribution\")\n",
    "plt.show()\n",
    "\n",
    "# Select initial feature for modeling\n",
    "initial_feature = data[['Years Since Release']]  # Start with a single feature\n",
    "\n",
    "# Perform stratified train-test split\n",
    "X_train, X_test, y_train, y_test = train_test_split(\n",
    "    initial_feature, target, test_size=0.2, random_state=42, stratify=target\n",
    ")\n",
    "\n",
    "# Check distribution in train and test sets\n",
    "print(\"\\nTraining Target Distribution:\")\n",
    "print(y_train.value_counts())\n",
    "\n",
    "print(\"\\nTesting Target Distribution:\")\n",
    "print(y_test.value_counts())\n",
    "\n",
    "# Output data shapes\n",
    "print(\"\\nTraining Features Shape:\", X_train.shape)\n",
    "print(\"Testing Features Shape:\", X_test.shape)\n",
    "print(\"Training Target Shape:\", y_train.shape)\n",
    "print(\"Testing Target Shape:\", y_test.shape)\n",
    "\n"
   ]
  },
  {
   "cell_type": "code",
   "execution_count": 12,
   "metadata": {},
   "outputs": [
    {
     "name": "stdout",
     "output_type": "stream",
     "text": [
      "Logistic Regression with 'Years Since Release' Accuracy: 0.5344827586206896\n",
      "\n",
      "Classification Report:\n",
      "               precision    recall  f1-score   support\n",
      "\n",
      "           0       0.62      0.57      0.60        35\n",
      "           1       0.42      0.48      0.45        23\n",
      "\n",
      "    accuracy                           0.53        58\n",
      "   macro avg       0.52      0.52      0.52        58\n",
      "weighted avg       0.54      0.53      0.54        58\n",
      "\n",
      "\n",
      "Confusion Matrix:\n",
      " [[20 15]\n",
      " [12 11]]\n"
     ]
    }
   ],
   "source": [
    "# Cell 4: Train Logistic Regression Model\n",
    "\n",
    "# Train Logistic Regression using 'Years Since Release' only\n",
    "lr_model = LogisticRegression(class_weight='balanced', random_state=42, max_iter=1000)\n",
    "lr_model.fit(X_train, y_train)\n",
    "\n",
    "# Make predictions\n",
    "y_pred_lr = lr_model.predict(X_test)\n",
    "\n",
    "# Evaluate the model\n",
    "print(\"Logistic Regression with 'Years Since Release' Accuracy:\", accuracy_score(y_test, y_pred_lr))\n",
    "print(\"\\nClassification Report:\\n\", classification_report(y_test, y_pred_lr))\n",
    "print(\"\\nConfusion Matrix:\\n\", confusion_matrix(y_test, y_pred_lr))\n",
    "\n",
    "\n"
   ]
  },
  {
   "cell_type": "code",
   "execution_count": 13,
   "metadata": {},
   "outputs": [
    {
     "name": "stdout",
     "output_type": "stream",
     "text": [
      "Random Forest with 'Years Since Release' Accuracy: 0.603448275862069\n",
      "\n",
      "Classification Report:\n",
      "               precision    recall  f1-score   support\n",
      "\n",
      "           0       0.62      0.86      0.72        35\n",
      "           1       0.50      0.22      0.30        23\n",
      "\n",
      "    accuracy                           0.60        58\n",
      "   macro avg       0.56      0.54      0.51        58\n",
      "weighted avg       0.58      0.60      0.56        58\n",
      "\n",
      "\n",
      "Confusion Matrix:\n",
      " [[30  5]\n",
      " [18  5]]\n"
     ]
    }
   ],
   "source": [
    "# Cell 5: Train Random Forest Model\n",
    "\n",
    "# Train Random Forest using 'Years Since Release' only\n",
    "rf_model = RandomForestClassifier(random_state=42)\n",
    "rf_model.fit(X_train, y_train)\n",
    "\n",
    "# Make predictions\n",
    "y_pred_rf = rf_model.predict(X_test)\n",
    "\n",
    "# Evaluate the model\n",
    "print(\"Random Forest with 'Years Since Release' Accuracy:\", accuracy_score(y_test, y_pred_rf))\n",
    "print(\"\\nClassification Report:\\n\", classification_report(y_test, y_pred_rf))\n",
    "print(\"\\nConfusion Matrix:\\n\", confusion_matrix(y_test, y_pred_rf))\n",
    "\n",
    "\n",
    "\n"
   ]
  },
  {
   "cell_type": "code",
   "execution_count": 14,
   "metadata": {},
   "outputs": [
    {
     "name": "stdout",
     "output_type": "stream",
     "text": [
      "SVM with 'Years Since Release' Accuracy: 0.603448275862069\n",
      "\n",
      "Classification Report:\n",
      "               precision    recall  f1-score   support\n",
      "\n",
      "           0       0.63      0.83      0.72        35\n",
      "           1       0.50      0.26      0.34        23\n",
      "\n",
      "    accuracy                           0.60        58\n",
      "   macro avg       0.57      0.54      0.53        58\n",
      "weighted avg       0.58      0.60      0.57        58\n",
      "\n",
      "\n",
      "Confusion Matrix:\n",
      " [[29  6]\n",
      " [17  6]]\n"
     ]
    }
   ],
   "source": [
    "# Cell 6: Train SVM Model\n",
    "\n",
    "# Train SVM using 'Years Since Release' only\n",
    "svm_model = SVC(class_weight='balanced', random_state=42)\n",
    "svm_model.fit(X_train, y_train)\n",
    "\n",
    "# Make predictions\n",
    "y_pred_svm = svm_model.predict(X_test)\n",
    "\n",
    "# Evaluate the model\n",
    "print(\"SVM with 'Years Since Release' Accuracy:\", accuracy_score(y_test, y_pred_svm))\n",
    "print(\"\\nClassification Report:\\n\", classification_report(y_test, y_pred_svm))\n",
    "print(\"\\nConfusion Matrix:\\n\", confusion_matrix(y_test, y_pred_svm))\n"
   ]
  },
  {
   "cell_type": "code",
   "execution_count": 15,
   "metadata": {},
   "outputs": [
    {
     "name": "stdout",
     "output_type": "stream",
     "text": [
      "\n",
      "Training Features Shape: (229, 5)\n",
      "Testing Features Shape: (58, 5)\n",
      "Training Target Shape: (229,)\n",
      "Testing Target Shape: (58,)\n"
     ]
    }
   ],
   "source": [
    "# Cell 7: Add More Features for Combined Training \n",
    "\n",
    "# Select additional features to add\n",
    "features = data[['Years Since Release', 'Price ($)', 'Indie', 'Action', 'Adventure']]\n",
    "\n",
    "# Perform stratified train-test split\n",
    "X_train, X_test, y_train, y_test = train_test_split(\n",
    "    features, target, test_size=0.2, random_state=42, stratify=target\n",
    ")\n",
    "\n",
    "# Output data shapes\n",
    "print(\"\\nTraining Features Shape:\", X_train.shape)\n",
    "print(\"Testing Features Shape:\", X_test.shape)\n",
    "print(\"Training Target Shape:\", y_train.shape)\n",
    "print(\"Testing Target Shape:\", y_test.shape)\n",
    "\n"
   ]
  },
  {
   "cell_type": "code",
   "execution_count": 16,
   "metadata": {},
   "outputs": [
    {
     "name": "stdout",
     "output_type": "stream",
     "text": [
      "Logistic Regression Accuracy with Combined Features: 0.5689655172413793\n",
      "\n",
      "Classification Report:\n",
      "               precision    recall  f1-score   support\n",
      "\n",
      "           0       0.65      0.63      0.64        35\n",
      "           1       0.46      0.48      0.47        23\n",
      "\n",
      "    accuracy                           0.57        58\n",
      "   macro avg       0.55      0.55      0.55        58\n",
      "weighted avg       0.57      0.57      0.57        58\n",
      "\n",
      "\n",
      "Confusion Matrix:\n",
      " [[22 13]\n",
      " [12 11]]\n"
     ]
    }
   ],
   "source": [
    "# Cell 8: Train Logistic Regression Model with Combined Features\n",
    "\n",
    "# Train Logistic Regression\n",
    "lr_model = LogisticRegression(class_weight='balanced', random_state=42, max_iter=1000)\n",
    "lr_model.fit(X_train, y_train)\n",
    "\n",
    "# Make predictions on the test data\n",
    "y_pred_lr = lr_model.predict(X_test)\n",
    "\n",
    "# Evaluate the model\n",
    "print(\"Logistic Regression Accuracy with Combined Features:\", accuracy_score(y_test, y_pred_lr))\n",
    "print(\"\\nClassification Report:\\n\", classification_report(y_test, y_pred_lr))\n",
    "print(\"\\nConfusion Matrix:\\n\", confusion_matrix(y_test, y_pred_lr))\n"
   ]
  },
  {
   "cell_type": "code",
   "execution_count": 17,
   "metadata": {},
   "outputs": [
    {
     "name": "stdout",
     "output_type": "stream",
     "text": [
      "Random Forest Accuracy with Combined Features: 0.603448275862069\n",
      "\n",
      "Classification Report:\n",
      "               precision    recall  f1-score   support\n",
      "\n",
      "           0       0.66      0.71      0.68        35\n",
      "           1       0.50      0.43      0.47        23\n",
      "\n",
      "    accuracy                           0.60        58\n",
      "   macro avg       0.58      0.57      0.58        58\n",
      "weighted avg       0.60      0.60      0.60        58\n",
      "\n",
      "\n",
      "Confusion Matrix:\n",
      " [[25 10]\n",
      " [13 10]]\n"
     ]
    }
   ],
   "source": [
    "# Cell 9: Train Random Forest Model with Combined Features\n",
    "\n",
    "# Train Random Forest\n",
    "rf_model = RandomForestClassifier(random_state=42, class_weight='balanced')\n",
    "rf_model.fit(X_train, y_train)\n",
    "\n",
    "# Make predictions on the test data\n",
    "y_pred_rf = rf_model.predict(X_test)\n",
    "\n",
    "# Evaluate the model\n",
    "print(\"Random Forest Accuracy with Combined Features:\", accuracy_score(y_test, y_pred_rf))\n",
    "print(\"\\nClassification Report:\\n\", classification_report(y_test, y_pred_rf))\n",
    "print(\"\\nConfusion Matrix:\\n\", confusion_matrix(y_test, y_pred_rf))\n",
    "\n"
   ]
  },
  {
   "cell_type": "code",
   "execution_count": 18,
   "metadata": {},
   "outputs": [
    {
     "name": "stdout",
     "output_type": "stream",
     "text": [
      "Fitting 5 folds for each of 216 candidates, totalling 1080 fits\n",
      "Best Parameters: {'class_weight': None, 'max_depth': 10, 'min_samples_leaf': 4, 'min_samples_split': 10, 'n_estimators': 100}\n",
      "\n",
      "Tuned Random Forest Accuracy: 0.6551724137931034\n",
      "\n",
      "Classification Report:\n",
      "               precision    recall  f1-score   support\n",
      "\n",
      "           0       0.67      0.86      0.75        35\n",
      "           1       0.62      0.35      0.44        23\n",
      "\n",
      "    accuracy                           0.66        58\n",
      "   macro avg       0.64      0.60      0.60        58\n",
      "weighted avg       0.65      0.66      0.63        58\n",
      "\n",
      "\n",
      "Confusion Matrix:\n",
      " [[30  5]\n",
      " [15  8]]\n"
     ]
    },
    {
     "name": "stderr",
     "output_type": "stream",
     "text": [
      "c:\\Users\\derek\\OneDrive\\Documents\\Capstone\\steam-indie-success\\.venv\\Lib\\site-packages\\numpy\\ma\\core.py:2881: RuntimeWarning: invalid value encountered in cast\n",
      "  _data = np.array(data, dtype=dtype, copy=copy,\n"
     ]
    }
   ],
   "source": [
    "# Cell 9: Hyperparameter Tuning for Random Forest\n",
    "\n",
    "from sklearn.model_selection import GridSearchCV\n",
    "\n",
    "# Define the parameter grid for Random Forest\n",
    "param_grid = {\n",
    "    'n_estimators': [100, 200, 300],\n",
    "    'max_depth': [None, 10, 20, 30],\n",
    "    'min_samples_split': [2, 5, 10],\n",
    "    'min_samples_leaf': [1, 2, 4],\n",
    "    'class_weight': [None, 'balanced']\n",
    "}\n",
    "\n",
    "# Initialize GridSearchCV\n",
    "grid_search = GridSearchCV(\n",
    "    estimator=RandomForestClassifier(random_state=42),\n",
    "    param_grid=param_grid,\n",
    "    cv=5,\n",
    "    n_jobs=-1,\n",
    "    verbose=2\n",
    ")\n",
    "\n",
    "# Fit the GridSearchCV on the training data\n",
    "grid_search.fit(X_train, y_train)\n",
    "\n",
    "# Get the best parameters\n",
    "best_params = grid_search.best_params_\n",
    "print(\"Best Parameters:\", best_params)\n",
    "\n",
    "# Evaluate the best model on the test data\n",
    "best_rf_model = grid_search.best_estimator_\n",
    "y_pred_rf_tuned = best_rf_model.predict(X_test)\n",
    "\n",
    "# Print accuracy, classification report, and confusion matrix\n",
    "print(\"\\nTuned Random Forest Accuracy:\", accuracy_score(y_test, y_pred_rf_tuned))\n",
    "print(\"\\nClassification Report:\\n\", classification_report(y_test, y_pred_rf_tuned))\n",
    "print(\"\\nConfusion Matrix:\\n\", confusion_matrix(y_test, y_pred_rf_tuned))\n",
    "\n"
   ]
  },
  {
   "cell_type": "code",
   "execution_count": 19,
   "metadata": {},
   "outputs": [
    {
     "name": "stdout",
     "output_type": "stream",
     "text": [
      "\n",
      "SVM Accuracy with Combined Features: 0.5\n",
      "\n",
      "Classification Report:\n",
      "               precision    recall  f1-score   support\n",
      "\n",
      "           0       0.58      0.60      0.59        35\n",
      "           1       0.36      0.35      0.36        23\n",
      "\n",
      "    accuracy                           0.50        58\n",
      "   macro avg       0.47      0.47      0.47        58\n",
      "weighted avg       0.50      0.50      0.50        58\n",
      "\n",
      "\n",
      "Confusion Matrix:\n",
      " [[21 14]\n",
      " [15  8]]\n"
     ]
    }
   ],
   "source": [
    "# Cell 10: Train and Evaluate SVM Model\n",
    "\n",
    "from sklearn.svm import SVC\n",
    "\n",
    "# Initialize SVM with basic settings\n",
    "svm_model = SVC(random_state=42, class_weight='balanced')\n",
    "\n",
    "# Train the model on the training data\n",
    "svm_model.fit(X_train, y_train)\n",
    "\n",
    "# Make predictions on the test data\n",
    "y_pred_svm = svm_model.predict(X_test)\n",
    "\n",
    "# Evaluate the model\n",
    "print(\"\\nSVM Accuracy with Combined Features:\", accuracy_score(y_test, y_pred_svm))\n",
    "print(\"\\nClassification Report:\\n\", classification_report(y_test, y_pred_svm))\n",
    "print(\"\\nConfusion Matrix:\\n\", confusion_matrix(y_test, y_pred_svm))\n"
   ]
  },
  {
   "cell_type": "code",
   "execution_count": 21,
   "metadata": {},
   "outputs": [
    {
     "name": "stdout",
     "output_type": "stream",
     "text": [
      "\n",
      "Best Parameters for SVM: {'C': 1, 'gamma': 'auto', 'kernel': 'poly'}\n",
      "\n",
      "Best Cross-Validated Accuracy: 0.6025120772946859\n"
     ]
    }
   ],
   "source": [
    "# Cell 11: Hyperparameter Tuning for SVM\n",
    "\n",
    "from sklearn.model_selection import GridSearchCV\n",
    "\n",
    "# Define the parameter grid\n",
    "param_grid_svm = {\n",
    "    'C': [0.1, 1, 10, 100],\n",
    "    'kernel': ['linear', 'rbf', 'poly', 'sigmoid'],\n",
    "    'gamma': ['scale', 'auto']\n",
    "}\n",
    "\n",
    "# Set up GridSearchCV\n",
    "svm_grid_search = GridSearchCV(SVC(random_state=42, class_weight='balanced'), param_grid_svm, cv=5, scoring='accuracy')\n",
    "\n",
    "# Fit GridSearchCV to training data\n",
    "svm_grid_search.fit(X_train, y_train)\n",
    "\n",
    "# Get best parameters and train final model\n",
    "best_svm_params = svm_grid_search.best_params_\n",
    "print(\"\\nBest Parameters for SVM:\", best_svm_params)\n",
    "print(\"\\nBest Cross-Validated Accuracy:\", svm_grid_search.best_score_)\n"
   ]
  },
  {
   "cell_type": "code",
   "execution_count": 22,
   "metadata": {},
   "outputs": [
    {
     "name": "stdout",
     "output_type": "stream",
     "text": [
      "Tuned SVM Accuracy: 0.5517241379310345\n",
      "\n",
      "Classification Report:\n",
      "               precision    recall  f1-score   support\n",
      "\n",
      "           0       0.62      0.69      0.65        35\n",
      "           1       0.42      0.35      0.38        23\n",
      "\n",
      "    accuracy                           0.55        58\n",
      "   macro avg       0.52      0.52      0.51        58\n",
      "weighted avg       0.54      0.55      0.54        58\n",
      "\n",
      "\n",
      "Confusion Matrix:\n",
      " [[24 11]\n",
      " [15  8]]\n"
     ]
    }
   ],
   "source": [
    "# Cell 12: Train and Evaluate the Tuned SVM Model\n",
    "\n",
    "# Train the SVM model with the best parameters\n",
    "svm_tuned_model = SVC(C=1, gamma='auto', kernel='poly', random_state=42, class_weight='balanced')\n",
    "svm_tuned_model.fit(X_train, y_train)\n",
    "\n",
    "# Make predictions\n",
    "y_pred_svm_tuned = svm_tuned_model.predict(X_test)\n",
    "\n",
    "# Evaluate the tuned SVM model\n",
    "print(\"Tuned SVM Accuracy:\", accuracy_score(y_test, y_pred_svm_tuned))\n",
    "print(\"\\nClassification Report:\\n\", classification_report(y_test, y_pred_svm_tuned))\n",
    "print(\"\\nConfusion Matrix:\\n\", confusion_matrix(y_test, y_pred_svm_tuned))\n"
   ]
  },
  {
   "cell_type": "markdown",
   "metadata": {},
   "source": [
    "### Model Performance Summary\n",
    "\n",
    "| Model                           | Accuracy | Precision (Class 0) | Recall (Class 0) | Precision (Class 1) | Recall (Class 1) |\n",
    "|---------------------------------|----------|---------------------|------------------|---------------------|------------------|\n",
    "| Logistic Regression (Combined Features) | 56.90%   | 0.65                | 0.63             | 0.46                | 0.48             |\n",
    "| Random Forest (Combined Features)       | 60.34%   | 0.66                | 0.71             | 0.50                | 0.43             |\n",
    "| Tuned Random Forest                     | **66.00%**   | 0.67                | 0.86             | 0.62                | 0.35             |\n",
    "| SVM (Combined Features)                 | 50.00%   | 0.58                | 0.60             | 0.36                | 0.35             |\n",
    "| Tuned SVM                               | 55.17%   | 0.62                | 0.69             | 0.42                | 0.35             |\n",
    "\n",
    "**Key Observations**:\n",
    "- **Random Forest** performed the best after tuning, achieving an accuracy of **66%**.\n",
    "- **SVM** struggled with accuracy, even after hyperparameter tuning, indicating it may not be the best model for this dataset.\n",
    "- **Logistic Regression** also showed moderate performance but was outperformed by Random Forest.\n"
   ]
  }
 ],
 "metadata": {
  "kernelspec": {
   "display_name": ".venv",
   "language": "python",
   "name": "python3"
  },
  "language_info": {
   "codemirror_mode": {
    "name": "ipython",
    "version": 3
   },
   "file_extension": ".py",
   "mimetype": "text/x-python",
   "name": "python",
   "nbconvert_exporter": "python",
   "pygments_lexer": "ipython3",
   "version": "3.12.2"
  }
 },
 "nbformat": 4,
 "nbformat_minor": 2
}
