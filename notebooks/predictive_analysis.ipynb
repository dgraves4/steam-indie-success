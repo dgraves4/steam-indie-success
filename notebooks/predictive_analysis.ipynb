{
 "cells": [
  {
   "cell_type": "markdown",
   "metadata": {},
   "source": [
    "# Predictive Analysis of Steam Indie Games Success\n",
    "\n",
    "## **1. Introduction**\n",
    "\n",
    "This notebook is dedicated to the **Predictive Analysis** phase of our project, which focuses on determining the factors that contribute most to the success of indie games on the Steam platform. The goal is to build machine learning models that can predict the commercial success of a game based on its available metadata. This analysis aims to empower indie game developers by identifying actionable insights to enhance the appeal and marketability of their games.\n",
    "\n",
    "The dataset used in this notebook was carefully cleaned and explored in the **Data Cleaning and Exploratory Data Analysis (EDA)** notebook, resulting in a robust and informative dataset that is ready for modeling.\n",
    "\n",
    "## **2. Objectives of the Notebook**\n",
    "\n",
    "1. **Feature Selection and Engineering**:\n",
    "   - Identify the key features that will be used to build predictive models.\n",
    "   - Use insights from the EDA phase to ensure relevant and impactful features are included.\n",
    "\n",
    "2. **Model Development**:\n",
    "   - Implement multiple machine learning algorithms to predict game success based on features like price, number of recommendations, genre, and developer information.\n",
    "   - Evaluate and compare the performance of different models to select the best-performing approach.\n",
    "\n",
    "3. **Training and Testing**:\n",
    "   - Split the data into training and testing sets to ensure the reliability and robustness of the models.\n",
    "   - Tune hyperparameters to optimize model performance.\n",
    "\n",
    "4. **Model Evaluation**:\n",
    "   - Assess the performance of the models using metrics such as accuracy, precision, recall, and R-squared.\n",
    "   - Determine which model provides the best predictive capability and discuss the reasons behind its success.\n",
    "\n",
    "## **3. Predictive Analysis Workflow**\n",
    "\n",
    "The workflow for predictive analysis in this notebook is as follows:\n",
    "\n",
    "1. **Data Preprocessing for Modeling**: \n",
    "   - Prepare the dataset for machine learning, including encoding categorical variables, splitting the data into training and testing sets, and normalizing features if necessary.\n",
    "\n",
    "2. **Model Selection**:\n",
    "   - **Random Forest** and **Logistic Regression** are the primary machine learning algorithms chosen for this analysis. These models were selected based on their ability to handle complex datasets and their interpretability.\n",
    "   - Other models, such as **Support Vector Machines (SVM)** and **Gradient Boosting**, may also be considered to compare performance.\n",
    "\n",
    "3. **Training and Hyperparameter Tuning**:\n",
    "   - Train each model using the training dataset and utilize cross-validation to prevent overfitting.\n",
    "   - Hyperparameter tuning will be conducted using Grid Search to find the optimal parameters for each model.\n",
    "\n",
    "4. **Evaluation**:\n",
    "   - Evaluate each model's performance using a separate test dataset.\n",
    "   - Metrics such as **accuracy**, **F1-score**, **confusion matrix**, and **R-squared** will be used to assess the models' effectiveness.\n",
    "   - Feature importance will be analyzed to determine which attributes have the most impact on game success.\n",
    "\n",
    "## **4. Implementation Plan**\n",
    "\n",
    "- **Modeling Techniques**: We will be using multiple models to provide a comprehensive understanding of the predictive capabilities of different techniques.\n",
    "  - **Random Forest**: This model is known for its robustness and ability to handle a large number of features without overfitting.\n",
    "  - **Logistic Regression**: Used for its simplicity and effectiveness in binary classification problems, such as predicting game success.\n",
    "  - **Gradient Boosting** (optional): If time permits, this model will be used to see if boosting methods provide superior performance.\n",
    "\n",
    "- **Data Split**: The dataset will be divided into an **80/20 split**, where **80%** of the data is used for training and **20%** for testing. This approach ensures that the model is evaluated on unseen data to test its generalizability.\n",
    "\n",
    "- **Tools and Libraries**: The following libraries will be used for modeling:\n",
    "  - **Pandas** and **NumPy** for data manipulation.\n",
    "  - **scikit-learn** for model training, evaluation, and hyperparameter tuning.\n",
    "  - **Matplotlib** and **Seaborn** for visualizing model performance and feature importance.\n",
    "\n",
    "## **5. Expected Outcomes**\n",
    "\n",
    "- **Model Comparison**: By comparing different models, we expect to identify the best-performing algorithm for predicting indie game success on Steam.\n",
    "- **Feature Insights**: We aim to determine which features (e.g., price, user engagement, genre) are the most critical drivers of game success.\n",
    "- **Practical Guidance for Developers**: The insights gained from this analysis can be used by indie developers to make data-driven decisions that increase the likelihood of their games being successful.\n",
    "\n",
    "## **6. Notebook Structure**\n",
    "\n",
    "1. **Data Preprocessing for Modeling**: Preparing the dataset by encoding categorical variables and splitting the data.\n",
    "2. **Model Development**: Training and testing machine learning models on the dataset.\n",
    "3. **Hyperparameter Tuning**: Using techniques such as Grid Search to optimize model parameters.\n",
    "4. **Model Evaluation**: Comparing models based on various metrics and selecting the best model.\n",
    "5. **Feature Importance Analysis**: Understanding which features are the key drivers of success.\n",
    "\n",
    "## **7. Next Steps**\n",
    "\n",
    "Once the predictive analysis phase is complete, we will incorporate these results into the final project report, highlighting key insights and recommendations for indie game developers. The findings from this analysis will also be used to answer discussion prompts and present our approach to peers.\n",
    "\n",
    "---\n",
    "\n",
    "By the end of this notebook, we will have built and evaluated multiple machine learning models that predict the success of indie games on Steam. This analysis will not only demonstrate the power of machine learning in making data-driven decisions but also provide actionable insights to help developers navigate the competitive indie game landscape.\n"
   ]
  },
  {
   "cell_type": "code",
   "execution_count": 15,
   "metadata": {},
   "outputs": [],
   "source": [
    "# Cell 1: Import libraries\n",
    "\n",
    "import pandas as pd\n",
    "import numpy as np\n",
    "import matplotlib.pyplot as plt\n",
    "import seaborn as sns\n",
    "from sklearn.model_selection import train_test_split\n",
    "from sklearn.ensemble import RandomForestClassifier\n",
    "from sklearn.linear_model import LogisticRegression\n",
    "from sklearn.metrics import classification_report, confusion_matrix, accuracy_score\n",
    "\n"
   ]
  },
  {
   "cell_type": "code",
   "execution_count": null,
   "metadata": {},
   "outputs": [
    {
     "name": "stdout",
     "output_type": "stream",
     "text": [
      "0   2023-10-27\n",
      "1   2015-02-27\n",
      "2   2024-01-06\n",
      "3   2021-08-25\n",
      "4   2015-08-14\n",
      "Name: Release Date, dtype: datetime64[ns]\n",
      "<class 'pandas.core.frame.DataFrame'>\n",
      "RangeIndex: 287 entries, 0 to 286\n",
      "Data columns (total 32 columns):\n",
      " #   Column                            Non-Null Count  Dtype         \n",
      "---  ------                            --------------  -----         \n",
      " 0   AppID                             287 non-null    int64         \n",
      " 1   Game Name                         287 non-null    object        \n",
      " 2   Release Date                      287 non-null    datetime64[ns]\n",
      " 3   Price ($)                         287 non-null    float64       \n",
      " 4   Recommendations                   287 non-null    float64       \n",
      " 5   Action                            287 non-null    bool          \n",
      " 6   Adventure                         287 non-null    bool          \n",
      " 7   Casual                            287 non-null    bool          \n",
      " 8   Early Access                      287 non-null    bool          \n",
      " 9   Free To Play                      287 non-null    bool          \n",
      " 10  Gore                              287 non-null    bool          \n",
      " 11  Indie                             287 non-null    bool          \n",
      " 12  Massively Multiplayer             287 non-null    bool          \n",
      " 13  Nudity                            287 non-null    bool          \n",
      " 14  RPG                               287 non-null    bool          \n",
      " 15  Racing                            287 non-null    bool          \n",
      " 16  Sexual Content                    287 non-null    bool          \n",
      " 17  Simulation                        287 non-null    bool          \n",
      " 18  Sports                            287 non-null    bool          \n",
      " 19  Strategy                          287 non-null    bool          \n",
      " 20  Violent                           287 non-null    bool          \n",
      " 21  Developer_Alister Software        287 non-null    bool          \n",
      " 22  Developer_Choice of Games         287 non-null    bool          \n",
      " 23  Developer_Daedalic Entertainment  287 non-null    bool          \n",
      " 24  Developer_Easy game               287 non-null    bool          \n",
      " 25  Developer_Other                   287 non-null    bool          \n",
      " 26  Developer_RewindApp               287 non-null    bool          \n",
      " 27  Developer_Ronimo Games            287 non-null    bool          \n",
      " 28  Developer_U-ROOM                  287 non-null    bool          \n",
      " 29  Years Since Release               287 non-null    float64       \n",
      " 30  Log_Recommendations               287 non-null    float64       \n",
      " 31  Raw_Recommendations               287 non-null    float64       \n",
      "dtypes: bool(24), datetime64[ns](1), float64(5), int64(1), object(1)\n",
      "memory usage: 24.8+ KB\n",
      "None\n"
     ]
    }
   ],
   "source": [
    "# Cell 2: Load the cleaned dataset and conveert 'Release Date' to datetime format\n",
    "dataset_path = r\"C:\\Users\\derek\\OneDrive\\Documents\\Capstone\\steam-indie-success\\data\\steam_indie_games_cleaned_v3.csv\"\n",
    "data = pd.read_csv(dataset_path)\n",
    "\n",
    "# Convert 'Release Date' to datetime format\n",
    "data['Release Date'] = pd.to_datetime(data['Release Date'], errors='coerce')\n",
    "\n",
    "# Verify the conversion\n",
    "print(data['Release Date'].head())\n",
    "print(data.info())\n",
    "\n",
    "\n"
   ]
  },
  {
   "cell_type": "code",
   "execution_count": 20,
   "metadata": {},
   "outputs": [
    {
     "name": "stdout",
     "output_type": "stream",
     "text": [
      "Full Dataset Target Distribution:\n",
      "Raw_Recommendations\n",
      "0    287\n",
      "Name: count, dtype: int64\n"
     ]
    },
    {
     "data": {
      "image/png": "[encoded data removed]",
      "text/plain": [
       "<Figure size 640x480 with 1 Axes>"
      ]
     },
     "metadata": {},
     "output_type": "display_data"
    }
   ],
   "source": [
    "# Cell 3: Analyze tTarget Distribution\n",
    "\n",
    "# Define the target variable\n",
    "# Assuming success is defined by more than 500 Raw Recommendations\n",
    "target = (data['Raw_Recommendations'] > 500).astype(int)\n",
    "\n",
    "# Check the distribution of the target variable in the full dataset\n",
    "print(\"Full Dataset Target Distribution:\")\n",
    "print(target.value_counts())\n",
    "\n",
    "# Optional: Visualize the distribution\n",
    "import seaborn as sns\n",
    "import matplotlib.pyplot as plt\n",
    "sns.countplot(x=target)\n",
    "plt.title(\"Target Variable Distribution\")\n",
    "plt.show()\n"
   ]
  },
  {
   "cell_type": "code",
   "execution_count": 18,
   "metadata": {},
   "outputs": [
    {
     "name": "stdout",
     "output_type": "stream",
     "text": [
      "Training Features Shape: (229, 5)\n",
      "Testing Features Shape: (58, 5)\n",
      "Training Target Shape: (229,)\n",
      "Testing Target Shape: (58,)\n"
     ]
    }
   ],
   "source": [
    "# Cell 3: Feature Selection and Train-Test Split\n",
    "\n",
    "# Define the target variable\n",
    "# Assuming success is defined by more than 500 Raw Recommendations\n",
    "target = (data['Raw_Recommendations'] > 500).astype(int)\n",
    "\n",
    "# Select features for modeling\n",
    "features = data[['Price ($)', 'Years Since Release', 'Action', 'Adventure', 'Indie']]\n",
    "\n",
    "# Split the data into training and testing sets\n",
    "from sklearn.model_selection import train_test_split\n",
    "X_train, X_test, y_train, y_test = train_test_split(features, target, test_size=0.2, random_state=42)\n",
    "\n",
    "# Display the shapes of the splits\n",
    "print(\"Training Features Shape:\", X_train.shape)\n",
    "print(\"Testing Features Shape:\", X_test.shape)\n",
    "print(\"Training Target Shape:\", y_train.shape)\n",
    "print(\"Testing Target Shape:\", y_test.shape)\n",
    "\n"
   ]
  },
  {
   "cell_type": "code",
   "execution_count": null,
   "metadata": {},
   "outputs": [],
   "source": []
  },
  {
   "cell_type": "code",
   "execution_count": null,
   "metadata": {},
   "outputs": [],
   "source": []
  },
  {
   "cell_type": "code",
   "execution_count": 19,
   "metadata": {},
   "outputs": [
    {
     "name": "stdout",
     "output_type": "stream",
     "text": [
      "Random Forest Accuracy: 1.0\n",
      "\n",
      "Classification Report:\n",
      "               precision    recall  f1-score   support\n",
      "\n",
      "           0       1.00      1.00      1.00        58\n",
      "\n",
      "    accuracy                           1.00        58\n",
      "   macro avg       1.00      1.00      1.00        58\n",
      "weighted avg       1.00      1.00      1.00        58\n",
      "\n",
      "\n",
      "Confusion Matrix:\n",
      " [[58]]\n"
     ]
    },
    {
     "name": "stderr",
     "output_type": "stream",
     "text": [
      "c:\\Users\\derek\\OneDrive\\Documents\\Capstone\\steam-indie-success\\.venv\\Lib\\site-packages\\sklearn\\metrics\\_classification.py:409: UserWarning: A single label was found in 'y_true' and 'y_pred'. For the confusion matrix to have the correct shape, use the 'labels' parameter to pass all known labels.\n",
      "  warnings.warn(\n"
     ]
    }
   ],
   "source": [
    "# Cell 4: Train a Random Forest Classifier\n",
    "\n",
    "# Initialize the model\n",
    "rf_model = RandomForestClassifier(random_state=42)\n",
    "\n",
    "# Train the model on the training data\n",
    "rf_model.fit(X_train, y_train)\n",
    "\n",
    "# Make predictions on the test data\n",
    "y_pred_rf = rf_model.predict(X_test)\n",
    "\n",
    "# Evaluate the model\n",
    "print(\"Random Forest Accuracy:\", accuracy_score(y_test, y_pred_rf))\n",
    "print(\"\\nClassification Report:\\n\", classification_report(y_test, y_pred_rf))\n",
    "print(\"\\nConfusion Matrix:\\n\", confusion_matrix(y_test, y_pred_rf))\n"
   ]
  }
 ],
 "metadata": {
  "kernelspec": {
   "display_name": ".venv",
   "language": "python",
   "name": "python3"
  },
  "language_info": {
   "codemirror_mode": {
    "name": "ipython",
    "version": 3
   },
   "file_extension": ".py",
   "mimetype": "text/x-python",
   "name": "python",
   "nbconvert_exporter": "python",
   "pygments_lexer": "ipython3",
   "version": "3.12.2"
  }
 },
 "nbformat": 4,
 "nbformat_minor": 2
}
