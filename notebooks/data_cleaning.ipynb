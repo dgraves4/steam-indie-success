{
 "cells": [
  {
   "cell_type": "code",
   "execution_count": 10,
   "metadata": {},
   "outputs": [],
   "source": [
    "#Import libraries for cleaning and visualizing data\n",
    "\n",
    "import pandas as pd\n",
    "import numpy as np\n",
    "import matplotlib.pyplot as plt\n",
    "import seaborn as sns"
   ]
  },
  {
   "cell_type": "code",
   "execution_count": 11,
   "metadata": {},
   "outputs": [
    {
     "name": "stdout",
     "output_type": "stream",
     "text": [
      "     AppID                             Game Name  Release Date  \\\n",
      "0  2193070                      Returning To Mia  Oct 27, 2023   \n",
      "1   328940                          The Deer God  Feb 27, 2015   \n",
      "2  2738050                  エスカレーター |  Escalator   Jan 6, 2024   \n",
      "3  1634150  Behind the Frame: The Finest Scenery  Aug 25, 2021   \n",
      "4   391260                         Labyronia RPG  Aug 14, 2015   \n",
      "5   311400                     OCEAN CITY RACING  Nov 14, 2014   \n",
      "6  1329600                               Karting  Apr 15, 2021   \n",
      "7  1245430                          Golden Light  Mar 11, 2022   \n",
      "8   314180                           Deathsmiles  Mar 10, 2016   \n",
      "9  2482440              Leap up no Justu: Double  Dec 21, 2023   \n",
      "\n",
      "                             Developer  \\\n",
      "0                        Inceton games   \n",
      "1  Crescent Moon Games, Cinopt Studios   \n",
      "2                              Toyasky   \n",
      "3                 Silver Lining Studio   \n",
      "4                         Labyrinthine   \n",
      "5               OCR Dev Team, Onur Uça   \n",
      "6                            RewindApp   \n",
      "7                             Mr. Pink   \n",
      "8            CAVE Interactive CO.,LTD.   \n",
      "9                    PiHoEntertainment   \n",
      "\n",
      "                                      Genres Price ($)  Recommendations  \\\n",
      "0              Adventure, Casual, Indie, RPG     14.99              193   \n",
      "1                                      Indie     14.99              220   \n",
      "2               Adventure, Indie, Simulation      2.99              116   \n",
      "3                   Adventure, Casual, Indie     12.99             4321   \n",
      "4              Action, Adventure, Indie, RPG      1.99             1116   \n",
      "5  Action, Casual, Indie, Racing, Simulation      1.99              452   \n",
      "6          Casual, Indie, Racing, Simulation      1.99              478   \n",
      "7                   Action, Adventure, Indie     19.99             1822   \n",
      "8                              Action, Indie     19.99              477   \n",
      "9              Action, Casual, Indie, Sports      0.49              447   \n",
      "\n",
      "   Metacritic Score  \n",
      "0               NaN  \n",
      "1              59.0  \n",
      "2               NaN  \n",
      "3               NaN  \n",
      "4               NaN  \n",
      "5               NaN  \n",
      "6               NaN  \n",
      "7               NaN  \n",
      "8              78.0  \n",
      "9               NaN  \n",
      "AppID                 int64\n",
      "Game Name            object\n",
      "Release Date         object\n",
      "Developer            object\n",
      "Genres               object\n",
      "Price ($)            object\n",
      "Recommendations       int64\n",
      "Metacritic Score    float64\n",
      "dtype: object\n",
      "<class 'pandas.core.frame.DataFrame'>\n",
      "RangeIndex: 300 entries, 0 to 299\n",
      "Data columns (total 8 columns):\n",
      " #   Column            Non-Null Count  Dtype  \n",
      "---  ------            --------------  -----  \n",
      " 0   AppID             300 non-null    int64  \n",
      " 1   Game Name         300 non-null    object \n",
      " 2   Release Date      300 non-null    object \n",
      " 3   Developer         300 non-null    object \n",
      " 4   Genres            300 non-null    object \n",
      " 5   Price ($)         300 non-null    object \n",
      " 6   Recommendations   300 non-null    int64  \n",
      " 7   Metacritic Score  45 non-null     float64\n",
      "dtypes: float64(1), int64(2), object(5)\n",
      "memory usage: 18.9+ KB\n",
      "None\n"
     ]
    }
   ],
   "source": [
    "# Define the path to your data file\n",
    "data_path = r'C:\\Users\\derek\\OneDrive\\Documents\\Capstone\\steam-indie-success\\data\\steam_indie_games_balanced.csv'\n",
    "\n",
    "# Load the data into a DataFrame\n",
    "df = pd.read_csv(data_path)\n",
    "\n",
    "# Preview the first few rows to confirm successful loading\n",
    "print(df.head(10))\n",
    "\n",
    "# Display the data types for each column\n",
    "print(df.dtypes)\n",
    "\n",
    "# Use .info() to get more detailed information\n",
    "print(df.info())\n",
    "\n"
   ]
  },
  {
   "cell_type": "code",
   "execution_count": 12,
   "metadata": {},
   "outputs": [
    {
     "name": "stdout",
     "output_type": "stream",
     "text": [
      "AppID                 0\n",
      "Game Name             0\n",
      "Release Date          0\n",
      "Developer             0\n",
      "Genres                0\n",
      "Price ($)             0\n",
      "Recommendations       0\n",
      "Metacritic Score    255\n",
      "dtype: int64\n"
     ]
    }
   ],
   "source": [
    "# Check for missing values\n",
    "missing_values = df.isna().sum()\n",
    "print(missing_values)"
   ]
  },
  {
   "cell_type": "code",
   "execution_count": 13,
   "metadata": {},
   "outputs": [
    {
     "name": "stdout",
     "output_type": "stream",
     "text": [
      "6\n",
      "6\n",
      "     AppID                             Game Name Release Date  \\\n",
      "0  2193070                      Returning To Mia   2023-10-27   \n",
      "1   328940                          The Deer God   2015-02-27   \n",
      "2  2738050                  エスカレーター |  Escalator   2024-01-06   \n",
      "3  1634150  Behind the Frame: The Finest Scenery   2021-08-25   \n",
      "4   391260                         Labyronia RPG   2015-08-14   \n",
      "5   311400                     OCEAN CITY RACING   2014-11-14   \n",
      "6  1329600                               Karting   2021-04-15   \n",
      "7  1245430                          Golden Light   2022-03-11   \n",
      "8   314180                           Deathsmiles   2016-03-10   \n",
      "9  2482440              Leap up no Justu: Double   2023-12-21   \n",
      "\n",
      "                             Developer  \\\n",
      "0                        Inceton games   \n",
      "1  Crescent Moon Games, Cinopt Studios   \n",
      "2                              Toyasky   \n",
      "3                 Silver Lining Studio   \n",
      "4                         Labyrinthine   \n",
      "5               OCR Dev Team, Onur Uça   \n",
      "6                            RewindApp   \n",
      "7                             Mr. Pink   \n",
      "8            CAVE Interactive CO.,LTD.   \n",
      "9                    PiHoEntertainment   \n",
      "\n",
      "                                      Genres  Price ($)  Recommendations  \\\n",
      "0              Adventure, Casual, Indie, RPG      14.99              193   \n",
      "1                                      Indie      14.99              220   \n",
      "2               Adventure, Indie, Simulation       2.99              116   \n",
      "3                   Adventure, Casual, Indie      12.99             4321   \n",
      "4              Action, Adventure, Indie, RPG       1.99             1116   \n",
      "5  Action, Casual, Indie, Racing, Simulation       1.99              452   \n",
      "6          Casual, Indie, Racing, Simulation       1.99              478   \n",
      "7                   Action, Adventure, Indie      19.99             1822   \n",
      "8                              Action, Indie      19.99              477   \n",
      "9              Action, Casual, Indie, Sports       0.49              447   \n",
      "\n",
      "   Metacritic Score  \n",
      "0         74.377778  \n",
      "1         59.000000  \n",
      "2         74.377778  \n",
      "3         74.377778  \n",
      "4         74.377778  \n",
      "5         74.377778  \n",
      "6         74.377778  \n",
      "7         74.377778  \n",
      "8         78.000000  \n",
      "9         74.377778  \n",
      "AppID                        int64\n",
      "Game Name                   object\n",
      "Release Date        datetime64[ns]\n",
      "Developer                   object\n",
      "Genres                      object\n",
      "Price ($)                  float64\n",
      "Recommendations              int64\n",
      "Metacritic Score           float64\n",
      "dtype: object\n"
     ]
    },
    {
     "name": "stderr",
     "output_type": "stream",
     "text": [
      "C:\\Users\\derek\\AppData\\Local\\Temp\\ipykernel_146820\\1464800596.py:15: FutureWarning: A value is trying to be set on a copy of a DataFrame or Series through chained assignment using an inplace method.\n",
      "The behavior will change in pandas 3.0. This inplace method will never work because the intermediate object on which we are setting values always behaves as a copy.\n",
      "\n",
      "For example, when doing 'df[col].method(value, inplace=True)', try using 'df.method({col: value}, inplace=True)' or df[col] = df[col].method(value) instead, to perform the operation inplace on the original object.\n",
      "\n",
      "\n",
      "  df['Metacritic Score'].fillna(df['Metacritic Score'].mean(), inplace=True)\n"
     ]
    }
   ],
   "source": [
    "# Step 1: Convert 'Release Date' to datetime\n",
    "df['Release Date'] = pd.to_datetime(df['Release Date'], errors='coerce')\n",
    "\n",
    "# Check for invalid dates\n",
    "print(df['Release Date'].isna().sum())\n",
    "\n",
    "# Step 2: Convert 'Price ($)' to numeric\n",
    "df['Price ($)'] = pd.to_numeric(df['Price ($)'].str.replace('$', ''), errors='coerce')\n",
    "\n",
    "# Check for invalid price entries\n",
    "print(df['Price ($)'].isna().sum())\n",
    "\n",
    "# Step 3: Handle missing values in 'Metacritic Score'\n",
    "# Option 1: Fill missing values with the mean or median score\n",
    "df['Metacritic Score'].fillna(df['Metacritic Score'].mean(), inplace=True)\n",
    "\n",
    "# Step 4: Clean text data (e.g., strip extra whitespace)\n",
    "df['Game Name'] = df['Game Name'].str.strip()\n",
    "df['Developer'] = df['Developer'].str.strip()\n",
    "df['Genres'] = df['Genres'].str.strip()\n",
    "\n",
    "# Confirm the changes\n",
    "print(df.head(10))\n",
    "print(df.dtypes)\n"
   ]
  },
  {
   "cell_type": "code",
   "execution_count": 14,
   "metadata": {},
   "outputs": [
    {
     "data": {
      "image/png": "[encoded data removed]",
      "text/plain": [
       "<Figure size 1000x500 with 1 Axes>"
      ]
     },
     "metadata": {},
     "output_type": "display_data"
    }
   ],
   "source": [
    "# Boxplot for Price ($)\n",
    "plt.figure(figsize=(10, 5))\n",
    "sns.boxplot(data=df, x='Price ($)')\n",
    "plt.title('Boxplot of Price ($)')\n",
    "plt.show()\n"
   ]
  },
  {
   "cell_type": "code",
   "execution_count": 15,
   "metadata": {},
   "outputs": [
    {
     "name": "stdout",
     "output_type": "stream",
     "text": [
      "Number of outliers in 'Price ($)': 2\n",
      "           Game Name  Price ($)\n",
      "29      Dude Fighter      59.99\n",
      "176  Legendary Tales      54.99\n"
     ]
    },
    {
     "data": {
      "image/png": "[encoded data removed]",
      "text/plain": [
       "<Figure size 1000x500 with 1 Axes>"
      ]
     },
     "metadata": {},
     "output_type": "display_data"
    }
   ],
   "source": [
    "# Step: Identify Outliers for Price ($)\n",
    "Q1 = df['Price ($)'].quantile(0.25)\n",
    "Q3 = df['Price ($)'].quantile(0.75)\n",
    "IQR = Q3 - Q1\n",
    "\n",
    "lower_bound = Q1 - 1.5 * IQR\n",
    "upper_bound = Q3 + 1.5 * IQR\n",
    "\n",
    "# Finding the outliers\n",
    "outliers = df[(df['Price ($)'] < lower_bound) | (df['Price ($)'] > upper_bound)]\n",
    "\n",
    "# Display outliers\n",
    "print(\"Number of outliers in 'Price ($)':\", outliers.shape[0])\n",
    "print(outliers[['Game Name', 'Price ($)']])\n",
    "\n",
    "# Boxplot visualization\n",
    "plt.figure(figsize=(10, 5))\n",
    "sns.boxplot(data=df, x='Price ($)')\n",
    "plt.title('Boxplot of Price ($)')\n",
    "plt.show()\n",
    "\n"
   ]
  }
 ],
 "metadata": {
  "kernelspec": {
   "display_name": ".venv",
   "language": "python",
   "name": "python3"
  },
  "language_info": {
   "codemirror_mode": {
    "name": "ipython",
    "version": 3
   },
   "file_extension": ".py",
   "mimetype": "text/x-python",
   "name": "python",
   "nbconvert_exporter": "python",
   "pygments_lexer": "ipython3",
   "version": "3.12.2"
  }
 },
 "nbformat": 4,
 "nbformat_minor": 2
}
